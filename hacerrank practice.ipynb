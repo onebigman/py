{
 "cells": [
  {
   "cell_type": "code",
   "execution_count": 1,
   "metadata": {},
   "outputs": [
    {
     "name": "stdout",
     "output_type": "stream",
     "text": [
      "AABCAAADA\n",
      "3\n",
      "AB\n",
      "CA\n",
      "AD\n"
     ]
    }
   ],
   "source": [
    "# zip iter practice\n",
    "S, N = input(), int(input()) \n",
    "for part in zip(*[iter(S)] * N):\n",
    "    d = dict()\n",
    "    print(''.join([ d.setdefault(c, c) for c in part if c not in d ]))\n",
    "    "
   ]
  },
  {
   "cell_type": "code",
   "execution_count": 24,
   "metadata": {},
   "outputs": [
    {
     "name": "stdout",
     "output_type": "stream",
     "text": [
      "('A', 'A', 'B', 'C')\n",
      "('A', 'A', 'A', 'D')\n"
     ]
    }
   ],
   "source": [
    "S, N = 'AABCAAADA',int(4)\n",
    "for part in zip(*[iter(S)] * N):\n",
    "    print(part)"
   ]
  },
  {
   "cell_type": "code",
   "execution_count": 39,
   "metadata": {},
   "outputs": [
    {
     "ename": "TypeError",
     "evalue": "unsupported operand type(s) for *: 'str_iterator' and 'int'",
     "output_type": "error",
     "traceback": [
      "\u001b[0;31m---------------------------------------------------------------------------\u001b[0m",
      "\u001b[0;31mTypeError\u001b[0m                                 Traceback (most recent call last)",
      "\u001b[0;32m<ipython-input-39-e98c3d13000e>\u001b[0m in \u001b[0;36m<module>\u001b[0;34m()\u001b[0m\n\u001b[1;32m      1\u001b[0m \u001b[0;34m\u001b[0m\u001b[0m\n\u001b[1;32m      2\u001b[0m \u001b[0ms\u001b[0m \u001b[0;34m=\u001b[0m \u001b[0;34m'AABCAAADA'\u001b[0m\u001b[0;34m\u001b[0m\u001b[0m\n\u001b[0;32m----> 3\u001b[0;31m \u001b[0ml\u001b[0m \u001b[0;34m=\u001b[0m \u001b[0miter\u001b[0m\u001b[0;34m(\u001b[0m\u001b[0mS\u001b[0m\u001b[0;34m)\u001b[0m\u001b[0;34m*\u001b[0m\u001b[0;36m3\u001b[0m\u001b[0;34m\u001b[0m\u001b[0m\n\u001b[0m\u001b[1;32m      4\u001b[0m \u001b[0mlist\u001b[0m\u001b[0;34m(\u001b[0m\u001b[0ml\u001b[0m\u001b[0;34m)\u001b[0m\u001b[0;34m\u001b[0m\u001b[0m\n",
      "\u001b[0;31mTypeError\u001b[0m: unsupported operand type(s) for *: 'str_iterator' and 'int'"
     ]
    }
   ],
   "source": [
    "\n",
    "s = 'AABCAAADA'\n",
    "l = iter(S)*3\n",
    "list(l)"
   ]
  },
  {
   "cell_type": "code",
   "execution_count": 37,
   "metadata": {},
   "outputs": [
    {
     "name": "stdout",
     "output_type": "stream",
     "text": [
      "1 2 3 4\n"
     ]
    }
   ],
   "source": [
    "print(*[1,2,3,4])"
   ]
  },
  {
   "cell_type": "code",
   "execution_count": 40,
   "metadata": {},
   "outputs": [
    {
     "name": "stdout",
     "output_type": "stream",
     "text": [
      "('a', 'b', 'c')\n",
      "('d', 'e', 'f')\n",
      "('g', 'h', 'i')\n"
     ]
    }
   ],
   "source": [
    "s = 'abcdefghi'\n",
    "it = iter(s)\n",
    "for part in zip(it, it, it):\n",
    "    print(part)"
   ]
  },
  {
   "cell_type": "code",
   "execution_count": 46,
   "metadata": {},
   "outputs": [
    {
     "name": "stdout",
     "output_type": "stream",
     "text": [
      "[[1, 2, 3], [1, 2, 3], [1, 2, 3]]\n",
      "[[1, 9, 3], [1, 9, 3], [1, 9, 3]]\n"
     ]
    }
   ],
   "source": [
    ">>> l = [1,2,3]\n",
    ">>> m = ([l]*3)\n",
    ">>> print(m)\n",
    "\n",
    ">>> m[2][1] = 9\n",
    ">>> print(m)"
   ]
  },
  {
   "cell_type": "code",
   "execution_count": 47,
   "metadata": {},
   "outputs": [
    {
     "name": "stdout",
     "output_type": "stream",
     "text": [
      "0\n",
      "3\n",
      "6\n",
      "9\n"
     ]
    }
   ],
   "source": [
    "n = 10\n",
    "k = 3\n",
    "for x in range(0,n,k):\n",
    "    print(x)"
   ]
  },
  {
   "cell_type": "code",
   "execution_count": 55,
   "metadata": {},
   "outputs": [
    {
     "name": "stdout",
     "output_type": "stream",
     "text": [
      "['A', 'A', 'B', 'C', 'A', 'A', 'A', 'D', 'A']\n",
      "AABCAAADA\n",
      "['A', 'B']\n",
      "['C', 'A']\n",
      "['A', 'D']\n"
     ]
    }
   ],
   "source": [
    "s='AABCAAADA'\n",
    "k=int(3)\n",
    "n=len(s)\n",
    "ls = list(s)\n",
    "print(ls)\n",
    "print(''.join(ls))\n",
    "for x in range(0, n, k):\n",
    "    slicedStr = s[x : x+k]\n",
    "    uni =[]\n",
    "    for y in slicedStr:\n",
    "        if y not in uni:\n",
    "            uni.append(y)\n",
    "    print(uni)"
   ]
  },
  {
   "cell_type": "code",
   "execution_count": null,
   "metadata": {},
   "outputs": [],
   "source": []
  }
 ],
 "metadata": {
  "kernelspec": {
   "display_name": "Python 3",
   "language": "python",
   "name": "python3"
  },
  "language_info": {
   "codemirror_mode": {
    "name": "ipython",
    "version": 3
   },
   "file_extension": ".py",
   "mimetype": "text/x-python",
   "name": "python",
   "nbconvert_exporter": "python",
   "pygments_lexer": "ipython3",
   "version": "3.6.4"
  }
 },
 "nbformat": 4,
 "nbformat_minor": 2
}
