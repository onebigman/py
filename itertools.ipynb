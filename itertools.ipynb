{
 "cells": [
  {
   "cell_type": "code",
   "execution_count": 8,
   "metadata": {},
   "outputs": [
    {
     "ename": "SyntaxError",
     "evalue": "invalid syntax (<ipython-input-8-34a6c7cb8ad2>, line 6)",
     "output_type": "error",
     "traceback": [
      "\u001b[0;36m  File \u001b[0;32m\"<ipython-input-8-34a6c7cb8ad2>\"\u001b[0;36m, line \u001b[0;32m6\u001b[0m\n\u001b[0;31m    print(*count_list)\u001b[0m\n\u001b[0m        ^\u001b[0m\n\u001b[0;31mSyntaxError\u001b[0m\u001b[0;31m:\u001b[0m invalid syntax\n"
     ]
    }
   ],
   "source": [
    "lists = ['a', 'a', 'b', 5, 6, 7, 5]\n",
    "count_set = set(lists)\n",
    "count_list = list()\n",
    "for item in count_set:\n",
    "    count_list.append((item,lists.count(item))\n",
    "print(count_list)"
   ]
  },
  {
   "cell_type": "code",
   "execution_count": 7,
   "metadata": {},
   "outputs": [
    {
     "name": "stdout",
     "output_type": "stream",
     "text": [
      "Counter({'a': 2, 5: 2, 'b': 1, 6: 1, 7: 1})\n"
     ]
    }
   ],
   "source": [
    "from collections import Counter\n",
    "lists = ['a', 'a', 'b', 5, 6, 7, 5]\n",
    "a = Counter(lists)\n",
    "print(a)  # Counter({'a': 2, 5: 2, 'b': 1, 6: 1, 7: 1})\n",
    "a.elements() # 获取a中所有的键,返回的是一个对象,我们可以通过list来转化它\n",
    "a.most_common(2) # 前两个出现频率最高的元素已经他们的次数,返回的是列表里面嵌套元组\n",
    "a['zz']  # 访问不存在的时候,默认返回0\n",
    "a.update(\"aa5bzz\") # 更新被统计的对象,即原有的计数值与新增的相加,而不是替换\n"
   ]
  },
  {
   "cell_type": "code",
   "execution_count": 27,
   "metadata": {},
   "outputs": [
    {
     "name": "stdout",
     "output_type": "stream",
     "text": [
      "A\n",
      "['A', 'A', 'A', 'A']\n",
      "<class 'str'>\n",
      "B\n",
      "['B', 'B', 'B']\n",
      "<class 'str'>\n",
      "C\n",
      "['C', 'C']\n",
      "<class 'str'>\n",
      "D\n",
      "['D']\n",
      "<class 'str'>\n",
      "A\n",
      "['A', 'A']\n",
      "<class 'str'>\n",
      "B\n",
      "['B', 'B', 'B']\n",
      "<class 'str'>\n",
      "<class 'list'>\n"
     ]
    }
   ],
   "source": [
    "from itertools import groupby\n",
    "for k, g in groupby('AAAABBBCCDAABBB'):\n",
    "    print(k)\n",
    "    print(list(g))\n",
    "    print(type(k))\n",
    "print(type([(len(list(c)), k) for k, c in groupby('AAAABBBCCDAABBB')]))"
   ]
  },
  {
   "cell_type": "code",
   "execution_count": null,
   "metadata": {},
   "outputs": [],
   "source": []
  }
 ],
 "metadata": {
  "kernelspec": {
   "display_name": "Python 3",
   "language": "python",
   "name": "python3"
  },
  "language_info": {
   "codemirror_mode": {
    "name": "ipython",
    "version": 3
   },
   "file_extension": ".py",
   "mimetype": "text/x-python",
   "name": "python",
   "nbconvert_exporter": "python",
   "pygments_lexer": "ipython3",
   "version": "3.6.4"
  }
 },
 "nbformat": 4,
 "nbformat_minor": 2
}
